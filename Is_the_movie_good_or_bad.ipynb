{
  "nbformat": 4,
  "nbformat_minor": 0,
  "metadata": {
    "colab": {
      "name": "Is the movie good or bad.ipynb",
      "private_outputs": true,
      "provenance": [],
      "machine_shape": "hm"
    },
    "kernelspec": {
      "display_name": "Python 3",
      "name": "python3"
    },
    "language_info": {
      "name": "python"
    },
    "accelerator": "TPU"
  },
  "cells": [
    {
      "cell_type": "markdown",
      "metadata": {
        "id": "vZNSzRv_rdh3"
      },
      "source": [
        "# **How good is the movie** ?"
      ]
    },
    {
      "cell_type": "markdown",
      "metadata": {
        "id": "G8U0cD-hrmZ9"
      },
      "source": [
        "This is a PoC project made to predict how good a movie is. It is possible to find the information in Kaggle the dataset [Kaggle](https://www.kaggle.com/grouplens/movielens-20m-dataset?select=tag.csv). I want to try to predict whether the movie is good or bad, considering a rating > 4 good and a rating < 4 bad."
      ]
    },
    {
      "cell_type": "code",
      "metadata": {
        "id": "iuP7ErU2g6do"
      },
      "source": [
        "import pandas as pd\n",
        "import io\n",
        "from google.colab import files\n",
        "from google.colab import drive\n",
        "import numpy as np\n",
        "import re\n",
        "import itertools\n",
        "from sklearn.preprocessing import MinMaxScaler\n",
        "from sklearn.ensemble import RandomForestClassifier\n",
        "from sklearn.model_selection import train_test_split\n",
        "from sklearn.model_selection import KFold \n",
        "from sklearn.metrics import accuracy_score\n",
        "from sklearn.model_selection import cross_val_score\n",
        "from sklearn import svm\n",
        "from sklearn.ensemble import RandomForestClassifier\n",
        "import matplotlib.pyplot as plt\n",
        "! pip install shap\n",
        "import shap\n",
        "from sklearn import metrics\n",
        "from sklearn.model_selection import GridSearchCV"
      ],
      "execution_count": null,
      "outputs": []
    },
    {
      "cell_type": "markdown",
      "metadata": {
        "id": "gDn3vzHZrys0"
      },
      "source": [
        "# **Data Exploration**"
      ]
    },
    {
      "cell_type": "markdown",
      "metadata": {
        "id": "XIrxJW6kr2uc"
      },
      "source": [
        "There are 6 sources of information available. \n",
        "* genome scores:\n",
        "     - csv type\n",
        "     - movieId integer\n",
        "     - tagId integer \n",
        "     - relevance (range 0-1) float \n",
        "     - 11709768 registers\n",
        "   \n",
        "* genome tags:\n",
        "     - csv type\n",
        "     - tag id integer \n",
        "     - tag string (movie characteristics)\n",
        "     - 1128 registers\n",
        "* link:\n",
        "     - csv type\n",
        "     - movieId integer\n",
        "     - imdbId integer\n",
        "     - tmdbId integer\n",
        "     - 27278 registers\n",
        "     \n",
        "* movie:\n",
        "     - csv type\n",
        "     - movieId integer\n",
        "     - titles string (movie name)\n",
        "     - genres string (genres within the movie)\n",
        "     - 27278 registers\n",
        "\n",
        "* rating:\n",
        "     - csv type\n",
        "     - userId integer\n",
        "     - movieId integer\n",
        "     - rating float (genres within the movie 0.5-5.0)\n",
        "     - timestamp (timestamp)\n",
        "     - 20000263 registers\n",
        "\n",
        "* tag:\n",
        "     - csv type\n",
        "     - userId integer\n",
        "     - movieId integer\n",
        "     - tag string (specific tag written by a user)\n",
        "     - timestamp (timestamp)\n",
        "     - 465564 registers\n",
        "        "
      ]
    },
    {
      "cell_type": "markdown",
      "metadata": {
        "id": "eaN2sGNz6uXe"
      },
      "source": [
        "# **Data import**\n",
        "\n",
        "I load the data with the code below."
      ]
    },
    {
      "cell_type": "code",
      "metadata": {
        "id": "iLBftOpf7mR5"
      },
      "source": [
        " drive.mount('/content/drive')"
      ],
      "execution_count": null,
      "outputs": []
    },
    {
      "cell_type": "code",
      "metadata": {
        "id": "VrF0dDSN7ufS"
      },
      "source": [
        "!ls \"/content/drive/My Drive/dataset\""
      ],
      "execution_count": null,
      "outputs": []
    },
    {
      "cell_type": "code",
      "metadata": {
        "id": "nUMCHjnlj_SQ"
      },
      "source": [
        "# genome scores \n",
        "genome_scores_df = pd.read_csv('/content/drive/My Drive/dataset/genome_scores.csv')\n",
        "genome_scores_df"
      ],
      "execution_count": null,
      "outputs": []
    },
    {
      "cell_type": "code",
      "metadata": {
        "id": "HDWdxfbykIIj"
      },
      "source": [
        "print(\"max relevance genome score is: \", genome_scores_df['relevance'].min())\n",
        "print(\"min relevance genome score is: \", genome_scores_df['relevance'].max())"
      ],
      "execution_count": null,
      "outputs": []
    },
    {
      "cell_type": "code",
      "metadata": {
        "id": "o-PDzecAOX1M"
      },
      "source": [
        "rel_hist = genome_scores_df['relevance'].hist(bins=10)"
      ],
      "execution_count": null,
      "outputs": []
    },
    {
      "cell_type": "code",
      "metadata": {
        "id": "p8DAFLCosOzO"
      },
      "source": [
        "rel_boxplot = genome_scores_df.boxplot(column=['relevance'])\n",
        "print(\"relevance average: \", genome_scores_df['relevance'].mean())\n",
        "print(\"relevance q25: \", genome_scores_df['relevance'].quantile(.25))\n",
        "print(\"relevance q75: \", genome_scores_df['relevance'].quantile(.75))"
      ],
      "execution_count": null,
      "outputs": []
    },
    {
      "cell_type": "code",
      "metadata": {
        "id": "52H74ZYWsRt7"
      },
      "source": [
        "genome_tags_df = pd.read_csv(\"/content/drive/My Drive/dataset/genome_tags.csv\")"
      ],
      "execution_count": null,
      "outputs": []
    },
    {
      "cell_type": "code",
      "metadata": {
        "id": "0ilBAQWOsRyG"
      },
      "source": [
        "genome_tags_df"
      ],
      "execution_count": null,
      "outputs": []
    },
    {
      "cell_type": "code",
      "metadata": {
        "id": "jT3BXieasR2D"
      },
      "source": [
        "link_df = pd.read_csv(\"/content/drive/My Drive/dataset/link.csv\")"
      ],
      "execution_count": null,
      "outputs": []
    },
    {
      "cell_type": "code",
      "metadata": {
        "id": "IXbnnlh6sR5L"
      },
      "source": [
        "link_df"
      ],
      "execution_count": null,
      "outputs": []
    },
    {
      "cell_type": "code",
      "metadata": {
        "id": "VbqjumhQsR8a"
      },
      "source": [
        "movie_df = pd.read_csv(\"/content/drive/My Drive/dataset/movie.csv\")"
      ],
      "execution_count": null,
      "outputs": []
    },
    {
      "cell_type": "code",
      "metadata": {
        "id": "EIfyQ4EpsR_M"
      },
      "source": [
        "movie_df"
      ],
      "execution_count": null,
      "outputs": []
    },
    {
      "cell_type": "code",
      "metadata": {
        "id": "WATBKgfgsZdW"
      },
      "source": [
        "def get_year_from_title(title):\n",
        "    try:\n",
        "        year = int(title.split('(')[1].split(')')[0])\n",
        "    except:\n",
        "        year = 0\n",
        "    return year"
      ],
      "execution_count": null,
      "outputs": []
    },
    {
      "cell_type": "code",
      "metadata": {
        "id": "JqGmw2chsZgr"
      },
      "source": [
        "movie_df['year'] = list(map(get_year_from_title, movie_df['title']))"
      ],
      "execution_count": null,
      "outputs": []
    },
    {
      "cell_type": "code",
      "metadata": {
        "id": "6oaB_I3hsZjS"
      },
      "source": [
        "movie_df"
      ],
      "execution_count": null,
      "outputs": []
    },
    {
      "cell_type": "code",
      "metadata": {
        "id": "VlAPCD5VsZme"
      },
      "source": [
        "#list of genres\n",
        "def get_genre_list(genre_array):\n",
        "    genres = []\n",
        "    for genre in genre_array:\n",
        "        try:\n",
        "            genres.append(genre.split('|'))\n",
        "        except:\n",
        "            genres.append(genre)\n",
        "    return genres"
      ],
      "execution_count": null,
      "outputs": []
    },
    {
      "cell_type": "code",
      "metadata": {
        "id": "KAhVGbwesgA3"
      },
      "source": [
        "movies = list(itertools.chain(*get_genre_list(movie_df['genres'])))"
      ],
      "execution_count": null,
      "outputs": []
    },
    {
      "cell_type": "code",
      "metadata": {
        "id": "x924sCDosgFJ"
      },
      "source": [
        "genres = set(movies)"
      ],
      "execution_count": null,
      "outputs": []
    },
    {
      "cell_type": "code",
      "metadata": {
        "id": "Ek2AyM1JsgIv"
      },
      "source": [
        "len(genres)"
      ],
      "execution_count": null,
      "outputs": []
    },
    {
      "cell_type": "code",
      "metadata": {
        "id": "xIxe90CisgLZ"
      },
      "source": [
        "movie_df['year'].value_counts()"
      ],
      "execution_count": null,
      "outputs": []
    },
    {
      "cell_type": "code",
      "metadata": {
        "id": "zrgxz4ERsgN-"
      },
      "source": [
        "rating_df = pd.read_csv(\"/content/drive/My Drive/dataset/rating.csv\")"
      ],
      "execution_count": null,
      "outputs": []
    },
    {
      "cell_type": "code",
      "metadata": {
        "id": "HRDp__lSsnqj"
      },
      "source": [
        "rating_df"
      ],
      "execution_count": null,
      "outputs": []
    },
    {
      "cell_type": "code",
      "metadata": {
        "id": "J0E4byPPsnt2"
      },
      "source": [
        "print(\"the min rating\", rating_df[\"rating\"].min())\n",
        "print(\"the max rating\", rating_df[\"rating\"].max())"
      ],
      "execution_count": null,
      "outputs": []
    },
    {
      "cell_type": "code",
      "metadata": {
        "id": "tYUGhoRMsnvX"
      },
      "source": [
        "rating_df[\"timestamp\"].min()"
      ],
      "execution_count": null,
      "outputs": []
    },
    {
      "cell_type": "code",
      "metadata": {
        "id": "L1gH8kr7snyQ"
      },
      "source": [
        "rating_df[\"timestamp\"].max()"
      ],
      "execution_count": null,
      "outputs": []
    },
    {
      "cell_type": "code",
      "metadata": {
        "id": "dLe4Rdsusn1B"
      },
      "source": [
        "hist_rating = rating_df[\"rating\"].hist( bins = 5)"
      ],
      "execution_count": null,
      "outputs": []
    },
    {
      "cell_type": "code",
      "metadata": {
        "id": "HQTdwG4isvsX"
      },
      "source": [
        "tag_df = pd.read_csv(\"/content/drive/My Drive/dataset/tag.csv\")"
      ],
      "execution_count": null,
      "outputs": []
    },
    {
      "cell_type": "code",
      "metadata": {
        "id": "shgMrpsrsvwq"
      },
      "source": [
        "tag_df_transform = tag_df[['movieId','tag']]\n",
        "def cast_string(tag):\n",
        "    return str(tag)\n",
        "tag_df_transform['tag'] = list(map(cast_string,tag_df_transform['tag']))\n",
        "tag_df_transform['movieId'] = list(map(cast_string,tag_df_transform['movieId']))"
      ],
      "execution_count": null,
      "outputs": []
    },
    {
      "cell_type": "code",
      "metadata": {
        "id": "6AG67cEGsv0I"
      },
      "source": [
        "tags_per_movie = tag_df_transform.groupby('movieId')['tag'].apply(list).reset_index(name='tags')"
      ],
      "execution_count": null,
      "outputs": []
    },
    {
      "cell_type": "code",
      "metadata": {
        "id": "clQY6TXUsv3R"
      },
      "source": [
        "def get_tag_len(tags):\n",
        "    return len(tags)\n",
        "tags_per_movie['quantity_tags'] = list(map(get_tag_len,tags_per_movie['tags']))"
      ],
      "execution_count": null,
      "outputs": []
    },
    {
      "cell_type": "code",
      "metadata": {
        "id": "WsYG0m50s2yn"
      },
      "source": [
        "tag_df"
      ],
      "execution_count": null,
      "outputs": []
    },
    {
      "cell_type": "code",
      "metadata": {
        "id": "Y2tFZEFRs21Y"
      },
      "source": [
        "tags_per_movie_df = tags_per_movie[['movieId','quantity_tags']]"
      ],
      "execution_count": null,
      "outputs": []
    },
    {
      "cell_type": "code",
      "metadata": {
        "id": "-fPuHR8ss23d"
      },
      "source": [
        "tags_per_movie['quantity_tags'].hist(bins=100)"
      ],
      "execution_count": null,
      "outputs": []
    },
    {
      "cell_type": "markdown",
      "metadata": {
        "id": "kG6xmJ_is9Wl"
      },
      "source": [
        "# **Summary Exploratory Analysis**"
      ]
    },
    {
      "cell_type": "markdown",
      "metadata": {
        "id": "bwFzarr7s9gp"
      },
      "source": [
        "From the Descriptive Analytics from above we can infer the next information:\n",
        "\n",
        "    * The most of the movies do not have a big relevance, very few movies are quite relevant.\n",
        "    * People create so far 1128 different tags to assign to movies.\n",
        "    * There are   27278 movies, most of them contain the \"year\" in the title. However, around the 19.2% \n",
        "      do not have a year asign (5218). \n",
        "    * There are movies from the year 1913 to the year 2013.The year with more movies is 2013.\n",
        "    * There are 20 different genres.\n",
        "    * From the rating asignation the time took place between 1995-2015.\n",
        "    * Most of the movies have a 4 + rating.\n",
        "    * It was found that not all the movies have a tag assign, only 71.6% (19545) have a tag. \n",
        "    * Customers present a tendency to assign around 10-15 tags per movie."
      ]
    },
    {
      "cell_type": "markdown",
      "metadata": {
        "id": "DvddIze6tIPO"
      },
      "source": [
        "#**Data Science Application: Feature Engineering**"
      ]
    },
    {
      "cell_type": "markdown",
      "metadata": {
        "id": "oenyxf0rtN7h"
      },
      "source": [
        "I am interested to know whether the movie is good or bad base on a +4.0 rating. Thus, I am going to use the rating information as my main dataframe to predict whether the movie is bad. Given that it cointains the user activity at the moment of rating the movie."
      ]
    },
    {
      "cell_type": "markdown",
      "metadata": {
        "id": "FfRVP4G0tVbI"
      },
      "source": [
        "- First, I am going to work with the relevance. The relevance represent, how much impact does the object have to the attention of users. The genome_scores_df has the movie ID and Tag ID with a specific relevance value. I am going to create a feature which name is going to be average relevance, the feature is going to represent the general relevance of the movie base on the tags that it has. In general the dataset contains the next information, for each movie; how relevant the movie is for each of the tags created by the users (1128 tags). "
      ]
    },
    {
      "cell_type": "code",
      "metadata": {
        "id": "6H1wob8Ls258"
      },
      "source": [
        "# This returns the aggregate average of relevance for each movie given the presented tags\n",
        "df_rel_avg_per_movie = genome_scores_df[['movieId','relevance']].groupby('movieId')['relevance'].mean().reset_index(name='rel_avg')"
      ],
      "execution_count": null,
      "outputs": []
    },
    {
      "cell_type": "code",
      "metadata": {
        "id": "G2yAi43TArhd"
      },
      "source": [
        "# This returns the aggregate max of relevance for each movie given the presented tags\n",
        "df_rel_max_per_movie = genome_scores_df[['movieId','relevance']].groupby('movieId')['relevance'].max().reset_index(name='rel_max')"
      ],
      "execution_count": null,
      "outputs": []
    },
    {
      "cell_type": "code",
      "metadata": {
        "id": "RkCusMijA5O4"
      },
      "source": [
        "# This returns the aggregate min of relevance for each movie given the presented tags\n",
        "df_rel_min_per_movie = genome_scores_df[['movieId','relevance']].groupby('movieId')['relevance'].min().reset_index(name='rel_min')"
      ],
      "execution_count": null,
      "outputs": []
    },
    {
      "cell_type": "code",
      "metadata": {
        "id": "dfk8UQHAtZoW"
      },
      "source": [
        "main_df = rating_df.merge(df_rel_avg_per_movie, how='left', on='movieId')"
      ],
      "execution_count": null,
      "outputs": []
    },
    {
      "cell_type": "code",
      "metadata": {
        "id": "DQRGMGuIBErm"
      },
      "source": [
        "main_df = main_df.merge(df_rel_max_per_movie, how='left', on='movieId')"
      ],
      "execution_count": null,
      "outputs": []
    },
    {
      "cell_type": "code",
      "metadata": {
        "id": "m40FPQZXBJZO"
      },
      "source": [
        "main_df = main_df.merge(df_rel_min_per_movie, how='left', on='movieId')"
      ],
      "execution_count": null,
      "outputs": []
    },
    {
      "cell_type": "code",
      "metadata": {
        "id": "tAg7bzlfBrnG"
      },
      "source": [
        "main_df.head()"
      ],
      "execution_count": null,
      "outputs": []
    },
    {
      "cell_type": "code",
      "metadata": {
        "id": "xOpnhIyPBQT_"
      },
      "source": [
        "main_df['rel_diff'] = main_df['rel_max'] - main_df['rel_min']"
      ],
      "execution_count": null,
      "outputs": []
    },
    {
      "cell_type": "markdown",
      "metadata": {
        "id": "Z9SSHDortcpx"
      },
      "source": [
        "- Second, I am going to convert my dependent variable to a binary classification alike form. "
      ]
    },
    {
      "cell_type": "code",
      "metadata": {
        "id": "a-8tm7-6s28g"
      },
      "source": [
        "# Define my desire clasification to 1-0. 1 = rating >= 4, 0 = rating < 4.\n",
        "def get_score_response(val):\n",
        "    response = 0\n",
        "    if val >= 4:\n",
        "        response = 1\n",
        "    else:\n",
        "        response = 0\n",
        "    return response\n",
        "main_df['rating_score'] =  list(map(get_score_response,main_df['rating']))"
      ],
      "execution_count": null,
      "outputs": []
    },
    {
      "cell_type": "markdown",
      "metadata": {
        "id": "VEVodvP1tkRG"
      },
      "source": [
        " - Third, I am going to work with the movie_df. The dataframe contains information related to the movies with the title and genre. From here, I am interested in bringing the year of the movie with some text processing and turn the genres into indicator labels, thus creating 1 column for each genre. "
      ]
    },
    {
      "cell_type": "code",
      "metadata": {
        "id": "DES6-3Juti-M"
      },
      "source": [
        "def confirm_genre_content(genres_desc,define_genre):\n",
        "    value = 0\n",
        "    if define_genre in genres_desc:\n",
        "        value = 1\n",
        "    else:\n",
        "        value = 0\n",
        "    return value"
      ],
      "execution_count": null,
      "outputs": []
    },
    {
      "cell_type": "code",
      "metadata": {
        "id": "_xFUtNi_to2U"
      },
      "source": [
        "list_genres = []\n",
        "for genre in genres:   \n",
        "    for genre_desc in movie_df['genres']:\n",
        "        list_genres.append(confirm_genre_content(genre_desc,genre))\n",
        "    movie_df[genre] = list_genres\n",
        "    list_genres = []"
      ],
      "execution_count": null,
      "outputs": []
    },
    {
      "cell_type": "code",
      "metadata": {
        "id": "rjHNFfplto5U"
      },
      "source": [
        "main_df = main_df.merge(movie_df, how='left', on='movieId')"
      ],
      "execution_count": null,
      "outputs": []
    },
    {
      "cell_type": "code",
      "metadata": {
        "id": "qPhx8iWYto7q"
      },
      "source": [
        "main_df['movieId'] = list(map(cast_string,main_df['movieId']))"
      ],
      "execution_count": null,
      "outputs": []
    },
    {
      "cell_type": "markdown",
      "metadata": {
        "id": "bcEOUcCTtvWv"
      },
      "source": [
        " - Fourth, from the tag_df dataframe, which contains the userid, movieid, tag associated with the movie and the timestamp of the association; I am going to bring the amount of tags that a movie has, the amount of tags that a user has tag movies and the amount of times a user tag a specific movie."
      ]
    },
    {
      "cell_type": "code",
      "metadata": {
        "id": "mWRMJ-xWto9m"
      },
      "source": [
        "main_df = main_df.merge(tags_per_movie_df, how='left', on='movieId')"
      ],
      "execution_count": null,
      "outputs": []
    },
    {
      "cell_type": "code",
      "metadata": {
        "id": "V0cpeLoptpAW"
      },
      "source": [
        "tag_df_transform_user = tag_df[['userId','tag']]\n",
        "tags_per_user = tag_df_transform_user.groupby('userId')['tag'].apply(list).reset_index(name='tags_user')\n",
        "tags_per_user['user_tags'] = list(map(get_tag_len,tags_per_user['tags_user']))"
      ],
      "execution_count": null,
      "outputs": []
    },
    {
      "cell_type": "code",
      "metadata": {
        "id": "mvUEjDY-tpF_"
      },
      "source": [
        "main_df['userId'] = main_df['userId'].astype(int)"
      ],
      "execution_count": null,
      "outputs": []
    },
    {
      "cell_type": "code",
      "metadata": {
        "id": "qcBXaaAGt37w"
      },
      "source": [
        "tags_per_user['userId'] = tags_per_user['userId'].astype(int)"
      ],
      "execution_count": null,
      "outputs": []
    },
    {
      "cell_type": "code",
      "metadata": {
        "id": "zWvUSL53t3-q"
      },
      "source": [
        "main_df = main_df.merge(tags_per_user, how='left', on='userId')"
      ],
      "execution_count": null,
      "outputs": []
    },
    {
      "cell_type": "code",
      "metadata": {
        "id": "al2MEB_Wt4BN"
      },
      "source": [
        "tag_df_user_movie = tag_df[['userId','movieId']]\n",
        "tag_df_user_movie['amount_us2mov'] = 1"
      ],
      "execution_count": null,
      "outputs": []
    },
    {
      "cell_type": "code",
      "metadata": {
        "id": "zZ7UPdG_t4Dy"
      },
      "source": [
        "tag_df_user_movie = tag_df_user_movie.groupby(['userId','movieId'])['amount_us2mov'].sum().reset_index()"
      ],
      "execution_count": null,
      "outputs": []
    },
    {
      "cell_type": "code",
      "metadata": {
        "id": "zmXWG1d1t4H-"
      },
      "source": [
        "main_df['movieId'] = main_df['movieId'].astype(int)"
      ],
      "execution_count": null,
      "outputs": []
    },
    {
      "cell_type": "code",
      "metadata": {
        "id": "89D8Kt3Ht4Km"
      },
      "source": [
        "main_df = main_df.merge(tag_df_user_movie, how='left', on=['userId','movieId'])"
      ],
      "execution_count": null,
      "outputs": []
    },
    {
      "cell_type": "code",
      "metadata": {
        "id": "AYaeMohNt4O4"
      },
      "source": [
        "main_df = main_df.fillna(0)"
      ],
      "execution_count": null,
      "outputs": []
    },
    {
      "cell_type": "code",
      "metadata": {
        "id": "rc7vl7AQuEru"
      },
      "source": [
        "main_df['timestamp'] = list(map(pd.to_datetime,main_df['timestamp']))"
      ],
      "execution_count": null,
      "outputs": []
    },
    {
      "cell_type": "code",
      "metadata": {
        "id": "46gyiZ-9uEwO"
      },
      "source": [
        "def get_month(date):\n",
        "    return date.month\n",
        "def get_day(date):\n",
        "    return date.day\n",
        "def get_hour(date):\n",
        "    return date.hour\n",
        "def get_year(date):\n",
        "    return date.year"
      ],
      "execution_count": null,
      "outputs": []
    },
    {
      "cell_type": "code",
      "metadata": {
        "id": "Lzd0QLxOuEzI"
      },
      "source": [
        "main_df['month'] = list(map(get_month,main_df['timestamp']))"
      ],
      "execution_count": null,
      "outputs": []
    },
    {
      "cell_type": "code",
      "metadata": {
        "id": "VZlAsESxuE1-"
      },
      "source": [
        "main_df['day'] = list(map(get_day,main_df['timestamp']))"
      ],
      "execution_count": null,
      "outputs": []
    },
    {
      "cell_type": "code",
      "metadata": {
        "id": "wHMyVDQOuI1X"
      },
      "source": [
        "main_df['hour'] = list(map(get_hour,main_df['timestamp']))"
      ],
      "execution_count": null,
      "outputs": []
    },
    {
      "cell_type": "code",
      "metadata": {
        "id": "Qusv-ONbeHqG"
      },
      "source": [
        "main_df['date_year'] = list(map(get_year,main_df['timestamp']))"
      ],
      "execution_count": null,
      "outputs": []
    },
    {
      "cell_type": "code",
      "metadata": {
        "id": "pdQO2_vGkt8W"
      },
      "source": [
        "main_df['year_rating'] = main_df['date_year'] - main_df['year']"
      ],
      "execution_count": null,
      "outputs": []
    },
    {
      "cell_type": "code",
      "metadata": {
        "id": "AZDMwpMrk7Dp"
      },
      "source": [
        "main_df = main_df[main_df['date_year'] >= 2008]"
      ],
      "execution_count": null,
      "outputs": []
    },
    {
      "cell_type": "code",
      "metadata": {
        "id": "M3dtCbwElD7u"
      },
      "source": [
        "len(main_df)"
      ],
      "execution_count": null,
      "outputs": []
    },
    {
      "cell_type": "code",
      "metadata": {
        "id": "rDuHRg8auI4D"
      },
      "source": [
        "main_df.head()"
      ],
      "execution_count": null,
      "outputs": []
    },
    {
      "cell_type": "code",
      "metadata": {
        "id": "AiybGAAqlbtd"
      },
      "source": [
        "# remove columns that I do not need.\n",
        "# main_df = main_df.drop(columns=['timestamp','userId','movieId','rating','title','genres','tags_user','date_year'])"
      ],
      "execution_count": null,
      "outputs": []
    },
    {
      "cell_type": "code",
      "metadata": {
        "id": "pLQik34EuE4W"
      },
      "source": [
        "main_df.head()"
      ],
      "execution_count": null,
      "outputs": []
    },
    {
      "cell_type": "code",
      "metadata": {
        "id": "Sh1Q0KbjoMVr"
      },
      "source": [
        "main_df = main_df.sort_values(by=['userId','timestamp'])"
      ],
      "execution_count": null,
      "outputs": []
    },
    {
      "cell_type": "code",
      "metadata": {
        "id": "W4kS46qjl7FL"
      },
      "source": [
        "main_df.to_csv('/content/drive/My Drive/dataset/main_df.csv')"
      ],
      "execution_count": null,
      "outputs": []
    },
    {
      "cell_type": "markdown",
      "metadata": {
        "id": "V_7HSu2kS4SG"
      },
      "source": [
        "# **Data Science Application: Data normalization**"
      ]
    },
    {
      "cell_type": "code",
      "metadata": {
        "id": "Yz6RgPKpmscB"
      },
      "source": [
        "main_df = pd.read_csv('/content/drive/My Drive/dataset/main_df.csv')"
      ],
      "execution_count": null,
      "outputs": []
    },
    {
      "cell_type": "code",
      "metadata": {
        "id": "tq2NhLtUnL1h"
      },
      "source": [
        "main_df = main_df.drop(columns = 'Unnamed: 0')"
      ],
      "execution_count": null,
      "outputs": []
    },
    {
      "cell_type": "code",
      "metadata": {
        "id": "oBglX2g6zoGB"
      },
      "source": [
        "# remove columns that I do not need.\n",
        "main_df = main_df.drop(columns=['timestamp','userId','movieId','rating','title','genres','tags_user','date_year'])"
      ],
      "execution_count": null,
      "outputs": []
    },
    {
      "cell_type": "code",
      "metadata": {
        "id": "_t677_P5m65q"
      },
      "source": [
        "main_df.head()"
      ],
      "execution_count": null,
      "outputs": []
    },
    {
      "cell_type": "code",
      "metadata": {
        "id": "LnAQmLAciCZs"
      },
      "source": [
        "def clean_year_rating(val):\n",
        "  if val > 200:\n",
        "    val = 0\n",
        "  else:\n",
        "    val\n",
        "  return val\n",
        "main_df['year_rating'] = list(map(clean_year_rating,main_df['year_rating']))"
      ],
      "execution_count": null,
      "outputs": []
    },
    {
      "cell_type": "code",
      "metadata": {
        "id": "DF-Jytc-X-mm"
      },
      "source": [
        "main_df['year_rating'].hist()"
      ],
      "execution_count": null,
      "outputs": []
    },
    {
      "cell_type": "code",
      "metadata": {
        "id": "tFeJkzUHmXjK"
      },
      "source": [
        "y = main_df['rating_score']\n",
        "main_df = main_df.drop(columns=['rating_score'])\n",
        "x = main_df"
      ],
      "execution_count": null,
      "outputs": []
    },
    {
      "cell_type": "code",
      "metadata": {
        "id": "4omU720B4C2a"
      },
      "source": [
        "x['y_lag1'] = y.shift(1)"
      ],
      "execution_count": null,
      "outputs": []
    },
    {
      "cell_type": "markdown",
      "metadata": {
        "id": "vv9G0WN1elCB"
      },
      "source": [
        "# **Data Science Application: Second Feature Engineering**"
      ]
    },
    {
      "cell_type": "markdown",
      "metadata": {
        "id": "V9rreiFWesX5"
      },
      "source": [
        "After getting the baseline result, I saw that the time features are not meaningful for the result. Neither most of movie genres. The movie genres which seem to be useful for the model are scifi, drama and action. Thus, I will erase the rest of the data, the amount of tags that a user puts in a movie feature does not have any impact on the model. Thus, I am going to delete such feature."
      ]
    },
    {
      "cell_type": "code",
      "metadata": {
        "id": "CU28EE3cerdY"
      },
      "source": [
        "# Erasing not necessary movie genres\n",
        "x = x.drop(columns=['War','Thriller','Fantasy','Horror','(no genres listed)','Crime','IMAX','Children','Animation','Comedy','Musical','Documentary','Romance','Film-Noir','Western','Adventure','Mystery','amount_us2mov','month','day','hour'])"
      ],
      "execution_count": null,
      "outputs": []
    },
    {
      "cell_type": "code",
      "metadata": {
        "id": "cLKvSj_lTAqF"
      },
      "source": [
        "scaler = MinMaxScaler()\n",
        "x_scaled = pd.DataFrame(scaler.fit_transform(x))"
      ],
      "execution_count": null,
      "outputs": []
    },
    {
      "cell_type": "code",
      "metadata": {
        "id": "HCbn89efUAY2"
      },
      "source": [
        "x_scaled.columns = x.columns"
      ],
      "execution_count": null,
      "outputs": []
    },
    {
      "cell_type": "code",
      "metadata": {
        "id": "3Ftv-rWZnEBj"
      },
      "source": [
        "x_scaled.head()"
      ],
      "execution_count": null,
      "outputs": []
    },
    {
      "cell_type": "code",
      "metadata": {
        "id": "obAwxoA-BUJj"
      },
      "source": [
        "x_scaled.columns"
      ],
      "execution_count": null,
      "outputs": []
    },
    {
      "cell_type": "code",
      "metadata": {
        "id": "crv7sYAPkEfq"
      },
      "source": [
        "x_scaled = x.fillna(0)"
      ],
      "execution_count": null,
      "outputs": []
    },
    {
      "cell_type": "code",
      "metadata": {
        "id": "_F3ZfL-Lny6R"
      },
      "source": [
        "# The data is balance\n",
        "y.value_counts()"
      ],
      "execution_count": null,
      "outputs": []
    },
    {
      "cell_type": "markdown",
      "metadata": {
        "id": "uhWKsqV0_9_9"
      },
      "source": [
        "# **Data Science Application: Machine Learning Model**"
      ]
    },
    {
      "cell_type": "code",
      "metadata": {
        "id": "dacQf_GpEgFM"
      },
      "source": [
        "# I try to be effective but the computer crash with this distributed way of getting results\n",
        "#clf = RandomForestClassifier(n_estimators = 50, criterion='entropy', max_depth=5, random_state=0)\n",
        "#accuracies = cross_val_score(estimator=clf, X = x_scaled, y = y, cv = 10, n_jobs = -1, verbose=1)"
      ],
      "execution_count": null,
      "outputs": []
    },
    {
      "cell_type": "code",
      "metadata": {
        "id": "bgTZxv2Cp0wd"
      },
      "source": [
        "len(x_scaled.columns)"
      ],
      "execution_count": null,
      "outputs": []
    },
    {
      "cell_type": "code",
      "metadata": {
        "id": "DGvs1PbP_Q9P"
      },
      "source": [
        "xscale = x_scaled.iloc[:1000,:]"
      ],
      "execution_count": null,
      "outputs": []
    },
    {
      "cell_type": "code",
      "metadata": {
        "id": "o3xabykEM_Rl"
      },
      "source": [
        "yscale = y[:1000]"
      ],
      "execution_count": null,
      "outputs": []
    },
    {
      "cell_type": "code",
      "metadata": {
        "id": "ab3aXAQNv6qu"
      },
      "source": [
        "xscale.to_csv('/content/drive/My Drive/dataset/xscale.csv')"
      ],
      "execution_count": null,
      "outputs": []
    },
    {
      "cell_type": "code",
      "metadata": {
        "id": "qRhkdUr-v6gP"
      },
      "source": [
        "yscale.to_csv('/content/drive/My Drive/dataset/yscale.csv')"
      ],
      "execution_count": null,
      "outputs": []
    },
    {
      "cell_type": "code",
      "metadata": {
        "id": "AWsvaELw8kTR"
      },
      "source": [
        "parameters = {\n",
        "    'n_estimators': [5, 10, 20, 50, 100, 150, 200],\n",
        "    'criterion': ['gini', 'entropy'],\n",
        "    'max_depth': [1,2,3,5],\n",
        "    'min_weight_fraction_leaf':[0.0,0.1,0.2],\n",
        "    'max_features' : ['auto','sqrt','log2'],\n",
        "    'min_impurity_decrease' : [0.0,0.1,0.01],\n",
        "    'ccp_alpha': [0.0, 0.1, 0.01, 0.05, 0.03, 0.02]\n",
        "}"
      ],
      "execution_count": null,
      "outputs": []
    },
    {
      "cell_type": "code",
      "metadata": {
        "id": "QyHcBOFU8ka1"
      },
      "source": [
        "estimator = RandomForestClassifier(\n",
        "    random_state=42\n",
        ")"
      ],
      "execution_count": null,
      "outputs": []
    },
    {
      "cell_type": "code",
      "metadata": {
        "id": "9ns_In5w_C0E"
      },
      "source": [
        "grid_search = GridSearchCV(\n",
        "    estimator=estimator,\n",
        "    param_grid=parameters,\n",
        "    scoring = 'roc_auc',\n",
        "    n_jobs = 10,\n",
        "    cv = 10,\n",
        "    verbose=True\n",
        ")"
      ],
      "execution_count": null,
      "outputs": []
    },
    {
      "cell_type": "code",
      "metadata": {
        "id": "rHPZU7Ln_Wug"
      },
      "source": [
        "grid_search.fit(xscale, yscale)"
      ],
      "execution_count": null,
      "outputs": []
    },
    {
      "cell_type": "code",
      "metadata": {
        "id": "j83N4bAL_Mst"
      },
      "source": [
        "grid_search.best_estimator_"
      ],
      "execution_count": null,
      "outputs": []
    },
    {
      "cell_type": "code",
      "metadata": {
        "id": "IRjVgRaVDGMs"
      },
      "source": [
        "k = 5\n",
        "kf = KFold(n_splits=k, random_state=None)\n",
        "\n",
        "clf = RandomForestClassifier(n_estimators=50, criterion='entropy',max_depth=7)\n",
        " \n",
        "acc_score = []\n",
        " \n",
        "for train_index , test_index in kf.split(x_scaled):\n",
        "    X_train , X_test = x_scaled.iloc[train_index,:],x_scaled.iloc[test_index,:]\n",
        "    y_train , y_test = y[train_index] , y[test_index]\n",
        "\n",
        "    clf.fit(X_train,y_train)\n",
        "    pred_values = clf.predict(X_test)\n",
        "     \n",
        "    acc = accuracy_score(pred_values , y_test)\n",
        "    acc_score.append(acc)\n",
        "    print(acc)\n",
        "avg_acc_score = sum(acc_score)/k\n",
        " \n",
        "print('accuracy of each fold - {}'.format(acc_score))\n",
        "print('Avg accuracy : {}'.format(avg_acc_score))"
      ],
      "execution_count": null,
      "outputs": []
    },
    {
      "cell_type": "code",
      "metadata": {
        "id": "3L_osTVxitF4"
      },
      "source": [
        "# this takes a minute or two since we are explaining over 30 thousand samples in a model with over a thousand trees.\n",
        "explainer = shap.TreeExplainer(clf)\n",
        "shap_values = explainer.shap_values(x_scaled)"
      ],
      "execution_count": null,
      "outputs": []
    },
    {
      "cell_type": "code",
      "metadata": {
        "id": "qEsRLuHjzcxN"
      },
      "source": [
        "# First Iteration of the model. The features Musical, Crime, Horror, Comedy, Adventure, War, Western, Film-Noir, Romance. \n",
        "# Are not useful to the model. Thus, I am going to erase them and try to predict again the model. Check if with less noisy data the model respond better.\n",
        "shap.summary_plot(shap_values, x_scaled, plot_type=\"bar\")"
      ],
      "execution_count": null,
      "outputs": []
    },
    {
      "cell_type": "code",
      "metadata": {
        "id": "8MNcG4H_-Q2D"
      },
      "source": [
        "# ROC curve\n",
        "fpr, tpr, _ = metrics.roc_curve(y_test,  pred_values)\n",
        "#create ROC curve\n",
        "plt.plot(fpr,tpr)\n",
        "plt.ylabel('True Positive Rate')\n",
        "plt.xlabel('False Positive Rate')\n",
        "plt.show()"
      ],
      "execution_count": null,
      "outputs": []
    },
    {
      "cell_type": "code",
      "metadata": {
        "id": "mnamlIQ99JkY"
      },
      "source": [
        ""
      ],
      "execution_count": null,
      "outputs": []
    }
  ]
}